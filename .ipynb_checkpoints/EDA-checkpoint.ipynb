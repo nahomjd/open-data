{
 "cells": [
  {
   "cell_type": "code",
   "execution_count": 3,
   "id": "f7bb4c1f-f9aa-4a69-955b-bdc2889388ef",
   "metadata": {},
   "outputs": [],
   "source": [
    "import pandas as pd\n",
    "import json"
   ]
  },
  {
   "cell_type": "code",
   "execution_count": 13,
   "id": "d09c48cb-5b50-4f3a-9abb-3b7c017727cf",
   "metadata": {},
   "outputs": [
    {
     "data": {
      "text/plain": [
       "'\\njson_file_path = r\"data\\\\events\\r946.json\"\\n\\nwith open(json_file_path, \\'r\\') as j:\\n     contents = json.loads(j.read())\\n#print(contents)\\n'"
      ]
     },
     "execution_count": 13,
     "metadata": {},
     "output_type": "execute_result"
    }
   ],
   "source": [
    "'''\n",
    "json_file_path = r\"data\\events\\15946.json\"\n",
    "\n",
    "with open(json_file_path, 'r') as j:\n",
    "     contents = json.loads(j.read())\n",
    "#print(contents)\n",
    "'''"
   ]
  },
  {
   "cell_type": "code",
   "execution_count": 16,
   "id": "74ff38fd-0595-4e69-8868-f821df1512ec",
   "metadata": {},
   "outputs": [],
   "source": [
    "df = pd.read_json(r'data\\events\\15946.json')\n",
    "df.to_csv('event1.csv')"
   ]
  },
  {
   "cell_type": "code",
   "execution_count": 30,
   "id": "c620a33a-c385-423f-9220-41ffd8187649",
   "metadata": {},
   "outputs": [
    {
     "data": {
      "text/html": [
       "<div>\n",
       "<style scoped>\n",
       "    .dataframe tbody tr th:only-of-type {\n",
       "        vertical-align: middle;\n",
       "    }\n",
       "\n",
       "    .dataframe tbody tr th {\n",
       "        vertical-align: top;\n",
       "    }\n",
       "\n",
       "    .dataframe thead th {\n",
       "        text-align: right;\n",
       "    }\n",
       "</style>\n",
       "<table border=\"1\" class=\"dataframe\">\n",
       "  <thead>\n",
       "    <tr style=\"text-align: right;\">\n",
       "      <th></th>\n",
       "      <th>match_id</th>\n",
       "      <th>match_date</th>\n",
       "      <th>kick_off</th>\n",
       "      <th>competition</th>\n",
       "      <th>season</th>\n",
       "      <th>home_team</th>\n",
       "      <th>away_team</th>\n",
       "      <th>home_score</th>\n",
       "      <th>away_score</th>\n",
       "      <th>match_status</th>\n",
       "      <th>match_status_360</th>\n",
       "      <th>last_updated</th>\n",
       "      <th>last_updated_360</th>\n",
       "      <th>metadata</th>\n",
       "      <th>match_week</th>\n",
       "      <th>competition_stage</th>\n",
       "      <th>stadium</th>\n",
       "      <th>referee</th>\n",
       "    </tr>\n",
       "  </thead>\n",
       "  <tbody>\n",
       "    <tr>\n",
       "      <th>12</th>\n",
       "      <td>15946</td>\n",
       "      <td>2018-08-18</td>\n",
       "      <td>22:15:00.000</td>\n",
       "      <td>{'competition_id': 11, 'country_name': 'Spain'...</td>\n",
       "      <td>{'season_id': 4, 'season_name': '2018/2019'}</td>\n",
       "      <td>{'home_team_id': 217, 'home_team_name': 'Barce...</td>\n",
       "      <td>{'away_team_id': 206, 'away_team_name': 'Depor...</td>\n",
       "      <td>3</td>\n",
       "      <td>0</td>\n",
       "      <td>available</td>\n",
       "      <td>scheduled</td>\n",
       "      <td>2022-12-05T14:32:32.223676</td>\n",
       "      <td>2021-06-13T16:17:31.694</td>\n",
       "      <td>{'data_version': '1.1.0', 'shot_fidelity_versi...</td>\n",
       "      <td>1</td>\n",
       "      <td>{'id': 1, 'name': 'Regular Season'}</td>\n",
       "      <td>{'id': 342, 'name': 'Spotify Camp Nou', 'count...</td>\n",
       "      <td>{'id': 2625, 'name': 'José María Sánchez Martí...</td>\n",
       "    </tr>\n",
       "  </tbody>\n",
       "</table>\n",
       "</div>"
      ],
      "text/plain": [
       "    match_id  match_date      kick_off  \\\n",
       "12     15946  2018-08-18  22:15:00.000   \n",
       "\n",
       "                                          competition  \\\n",
       "12  {'competition_id': 11, 'country_name': 'Spain'...   \n",
       "\n",
       "                                          season  \\\n",
       "12  {'season_id': 4, 'season_name': '2018/2019'}   \n",
       "\n",
       "                                            home_team  \\\n",
       "12  {'home_team_id': 217, 'home_team_name': 'Barce...   \n",
       "\n",
       "                                            away_team  home_score  away_score  \\\n",
       "12  {'away_team_id': 206, 'away_team_name': 'Depor...           3           0   \n",
       "\n",
       "   match_status match_status_360                last_updated  \\\n",
       "12    available        scheduled  2022-12-05T14:32:32.223676   \n",
       "\n",
       "           last_updated_360  \\\n",
       "12  2021-06-13T16:17:31.694   \n",
       "\n",
       "                                             metadata  match_week  \\\n",
       "12  {'data_version': '1.1.0', 'shot_fidelity_versi...           1   \n",
       "\n",
       "                      competition_stage  \\\n",
       "12  {'id': 1, 'name': 'Regular Season'}   \n",
       "\n",
       "                                              stadium  \\\n",
       "12  {'id': 342, 'name': 'Spotify Camp Nou', 'count...   \n",
       "\n",
       "                                              referee  \n",
       "12  {'id': 2625, 'name': 'José María Sánchez Martí...  "
      ]
     },
     "execution_count": 30,
     "metadata": {},
     "output_type": "execute_result"
    }
   ],
   "source": [
    "df2 = pd.read_json(r'data\\matches\\11\\4.json')\n",
    "df2[df2['match_id']==15946]"
   ]
  },
  {
   "cell_type": "code",
   "execution_count": null,
   "id": "800cdb1e-edb3-4ba0-af87-4498dd3f70e4",
   "metadata": {},
   "outputs": [],
   "source": []
  }
 ],
 "metadata": {
  "kernelspec": {
   "display_name": "Python 3 (ipykernel)",
   "language": "python",
   "name": "python3"
  },
  "language_info": {
   "codemirror_mode": {
    "name": "ipython",
    "version": 3
   },
   "file_extension": ".py",
   "mimetype": "text/x-python",
   "name": "python",
   "nbconvert_exporter": "python",
   "pygments_lexer": "ipython3",
   "version": "3.10.4"
  }
 },
 "nbformat": 4,
 "nbformat_minor": 5
}
